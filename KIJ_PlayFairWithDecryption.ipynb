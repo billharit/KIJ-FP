{
  "nbformat": 4,
  "nbformat_minor": 0,
  "metadata": {
    "colab": {
      "provenance": [],
      "collapsed_sections": [
        "UBrQmk9M90cC",
        "pNolA9ZP97fP"
      ]
    },
    "kernelspec": {
      "name": "python3",
      "display_name": "Python 3"
    },
    "language_info": {
      "name": "python"
    }
  },
  "cells": [
    {
      "cell_type": "markdown",
      "source": [
        "# Original Code"
      ],
      "metadata": {
        "id": "UBrQmk9M90cC"
      }
    },
    {
      "cell_type": "code",
      "execution_count": 1,
      "metadata": {
        "colab": {
          "base_uri": "https://localhost:8080/",
          "height": 387
        },
        "id": "VIVNWq5PelbL",
        "outputId": "f5ad58a2-fa11-444e-add3-b2f667a07288"
      },
      "outputs": [
        {
          "output_type": "stream",
          "name": "stdout",
          "text": [
            "PlayFair Cipher Encryption\n",
            "\n",
            "-------------------------------------\n"
          ]
        },
        {
          "output_type": "error",
          "ename": "KeyboardInterrupt",
          "evalue": "ignored",
          "traceback": [
            "\u001b[0;31m---------------------------------------------------------------------------\u001b[0m",
            "\u001b[0;31mKeyboardInterrupt\u001b[0m                         Traceback (most recent call last)",
            "\u001b[0;32m<ipython-input-1-a470acc9e0a1>\u001b[0m in \u001b[0;36m<module>\u001b[0;34m\u001b[0m\n\u001b[1;32m    144\u001b[0m \u001b[0;34m\u001b[0m\u001b[0m\n\u001b[1;32m    145\u001b[0m \u001b[0;32mif\u001b[0m \u001b[0m__name__\u001b[0m \u001b[0;34m==\u001b[0m \u001b[0;34m\"__main__\"\u001b[0m\u001b[0;34m:\u001b[0m\u001b[0;34m\u001b[0m\u001b[0;34m\u001b[0m\u001b[0m\n\u001b[0;32m--> 146\u001b[0;31m     \u001b[0mmain\u001b[0m\u001b[0;34m(\u001b[0m\u001b[0;34m)\u001b[0m\u001b[0;34m\u001b[0m\u001b[0;34m\u001b[0m\u001b[0m\n\u001b[0m",
            "\u001b[0;32m<ipython-input-1-a470acc9e0a1>\u001b[0m in \u001b[0;36mmain\u001b[0;34m()\u001b[0m\n\u001b[1;32m    101\u001b[0m       \u001b[0mplaintext\u001b[0m \u001b[0;34m=\u001b[0m \u001b[0minput\u001b[0m\u001b[0;34m(\u001b[0m\u001b[0;34m'Enter PlainText Again: '\u001b[0m\u001b[0;34m)\u001b[0m\u001b[0;34m.\u001b[0m\u001b[0mreplace\u001b[0m\u001b[0;34m(\u001b[0m\u001b[0;34m\" \"\u001b[0m\u001b[0;34m,\u001b[0m \u001b[0;34m\"\"\u001b[0m\u001b[0;34m)\u001b[0m\u001b[0;34m.\u001b[0m\u001b[0mlower\u001b[0m\u001b[0;34m(\u001b[0m\u001b[0;34m)\u001b[0m\u001b[0;34m\u001b[0m\u001b[0;34m\u001b[0m\u001b[0m\n\u001b[1;32m    102\u001b[0m     \u001b[0;32melse\u001b[0m\u001b[0;34m:\u001b[0m\u001b[0;34m\u001b[0m\u001b[0;34m\u001b[0m\u001b[0m\n\u001b[0;32m--> 103\u001b[0;31m       \u001b[0mkey\u001b[0m \u001b[0;34m=\u001b[0m \u001b[0minput\u001b[0m\u001b[0;34m(\u001b[0m\u001b[0;34m'Enter Key: '\u001b[0m\u001b[0;34m)\u001b[0m\u001b[0;34m.\u001b[0m\u001b[0mreplace\u001b[0m\u001b[0;34m(\u001b[0m\u001b[0;34m\" \"\u001b[0m\u001b[0;34m,\u001b[0m \u001b[0;34m\"\"\u001b[0m\u001b[0;34m)\u001b[0m\u001b[0;34m.\u001b[0m\u001b[0mlower\u001b[0m\u001b[0;34m(\u001b[0m\u001b[0;34m)\u001b[0m\u001b[0;34m\u001b[0m\u001b[0;34m\u001b[0m\u001b[0m\n\u001b[0m\u001b[1;32m    104\u001b[0m       \u001b[0mplaintext\u001b[0m \u001b[0;34m=\u001b[0m \u001b[0minput\u001b[0m\u001b[0;34m(\u001b[0m\u001b[0;34m'Enter PlainText: '\u001b[0m\u001b[0;34m)\u001b[0m\u001b[0;34m.\u001b[0m\u001b[0mreplace\u001b[0m\u001b[0;34m(\u001b[0m\u001b[0;34m\" \"\u001b[0m\u001b[0;34m,\u001b[0m \u001b[0;34m\"\"\u001b[0m\u001b[0;34m)\u001b[0m\u001b[0;34m.\u001b[0m\u001b[0mlower\u001b[0m\u001b[0;34m(\u001b[0m\u001b[0;34m)\u001b[0m\u001b[0;34m\u001b[0m\u001b[0;34m\u001b[0m\u001b[0m\n\u001b[1;32m    105\u001b[0m \u001b[0;34m\u001b[0m\u001b[0m\n",
            "\u001b[0;32m/usr/local/lib/python3.8/dist-packages/ipykernel/kernelbase.py\u001b[0m in \u001b[0;36mraw_input\u001b[0;34m(self, prompt)\u001b[0m\n\u001b[1;32m    858\u001b[0m                 \u001b[0;34m\"raw_input was called, but this frontend does not support input requests.\"\u001b[0m\u001b[0;34m\u001b[0m\u001b[0;34m\u001b[0m\u001b[0m\n\u001b[1;32m    859\u001b[0m             )\n\u001b[0;32m--> 860\u001b[0;31m         return self._input_request(str(prompt),\n\u001b[0m\u001b[1;32m    861\u001b[0m             \u001b[0mself\u001b[0m\u001b[0;34m.\u001b[0m\u001b[0m_parent_ident\u001b[0m\u001b[0;34m,\u001b[0m\u001b[0;34m\u001b[0m\u001b[0;34m\u001b[0m\u001b[0m\n\u001b[1;32m    862\u001b[0m             \u001b[0mself\u001b[0m\u001b[0;34m.\u001b[0m\u001b[0m_parent_header\u001b[0m\u001b[0;34m,\u001b[0m\u001b[0;34m\u001b[0m\u001b[0;34m\u001b[0m\u001b[0m\n",
            "\u001b[0;32m/usr/local/lib/python3.8/dist-packages/ipykernel/kernelbase.py\u001b[0m in \u001b[0;36m_input_request\u001b[0;34m(self, prompt, ident, parent, password)\u001b[0m\n\u001b[1;32m    902\u001b[0m             \u001b[0;32mexcept\u001b[0m \u001b[0mKeyboardInterrupt\u001b[0m\u001b[0;34m:\u001b[0m\u001b[0;34m\u001b[0m\u001b[0;34m\u001b[0m\u001b[0m\n\u001b[1;32m    903\u001b[0m                 \u001b[0;31m# re-raise KeyboardInterrupt, to truncate traceback\u001b[0m\u001b[0;34m\u001b[0m\u001b[0;34m\u001b[0m\u001b[0;34m\u001b[0m\u001b[0m\n\u001b[0;32m--> 904\u001b[0;31m                 \u001b[0;32mraise\u001b[0m \u001b[0mKeyboardInterrupt\u001b[0m\u001b[0;34m(\u001b[0m\u001b[0;34m\"Interrupted by user\"\u001b[0m\u001b[0;34m)\u001b[0m \u001b[0;32mfrom\u001b[0m \u001b[0;32mNone\u001b[0m\u001b[0;34m\u001b[0m\u001b[0;34m\u001b[0m\u001b[0m\n\u001b[0m\u001b[1;32m    905\u001b[0m             \u001b[0;32mexcept\u001b[0m \u001b[0mException\u001b[0m \u001b[0;32mas\u001b[0m \u001b[0me\u001b[0m\u001b[0;34m:\u001b[0m\u001b[0;34m\u001b[0m\u001b[0;34m\u001b[0m\u001b[0m\n\u001b[1;32m    906\u001b[0m                 \u001b[0mself\u001b[0m\u001b[0;34m.\u001b[0m\u001b[0mlog\u001b[0m\u001b[0;34m.\u001b[0m\u001b[0mwarning\u001b[0m\u001b[0;34m(\u001b[0m\u001b[0;34m\"Invalid Message:\"\u001b[0m\u001b[0;34m,\u001b[0m \u001b[0mexc_info\u001b[0m\u001b[0;34m=\u001b[0m\u001b[0;32mTrue\u001b[0m\u001b[0;34m)\u001b[0m\u001b[0;34m\u001b[0m\u001b[0;34m\u001b[0m\u001b[0m\n",
            "\u001b[0;31mKeyboardInterrupt\u001b[0m: Interrupted by user"
          ]
        }
      ],
      "source": [
        "def generateAlphabetList():\n",
        "  \"\"\"\n",
        "  This Function Generate Alphabet List which will be used on Key Table Generation\n",
        "  \"\"\"\n",
        "  alphabetList = []\n",
        "  for letter in range(ord('a'), ord('z')+1):\n",
        "    if(chr(letter) != 'j'):\n",
        "      alphabetList.append(chr(letter))\n",
        "  return alphabetList\n",
        "\n",
        "def generateKeyTable(key):\n",
        "  \"\"\"\n",
        "  This Function Generate Key Table which takes an input of key\n",
        "  \"\"\"\n",
        "  keyList = []\n",
        "  keyTable = []\n",
        "  alphabetList = generateAlphabetList()\n",
        "  # Append Key to Table\n",
        "  for letter in key:\n",
        "    if letter =='j' and 'i' not in keyList:\n",
        "      keyList.append('i')\n",
        "    elif letter not in keyList and letter != 'j':\n",
        "      keyList.append(letter)\n",
        "  # Append Alphabet to Table\n",
        "  for letter in alphabetList:\n",
        "    if letter not in keyList and letter != 'j':\n",
        "      keyList.append(letter)\n",
        "  # Turn into 2D 5x5 list\n",
        "  while keyList != []:\n",
        "    keyRow = []\n",
        "    for i in range(0,5):\n",
        "      if(keyList[0] is not None):\n",
        "        keyRow.append(keyList.pop(0))\n",
        "    keyTable.append(keyRow)\n",
        "  return keyTable\n",
        "\n",
        "def search(keyTable, char):\n",
        "  \"\"\"\n",
        "  This Function searches the index of the character\n",
        "  \"\"\"\n",
        "  for i, x in enumerate(keyTable):\n",
        "    for a, b in enumerate(x):\n",
        "      if char == b:\n",
        "        return i,a\n",
        "\n",
        "def next_column(keyTable, char):\n",
        "  \"\"\"\n",
        "  This Functions Does the next column algorithm if its on same row\n",
        "  \"\"\"\n",
        "  x, y = search(keyTable, char)\n",
        "  yNext = (y+1) % 5\n",
        "  return keyTable[x][yNext]\n",
        "\n",
        "def next_row(keyTable, char):\n",
        "  \"\"\"\n",
        "  This Functions Does the next row algorithm if its on same column\n",
        "  \"\"\"\n",
        "  x, y = search(keyTable, char)\n",
        "  xNext = (x+1) % 5\n",
        "  return keyTable[xNext][y]\n",
        "\n",
        "def encrypt(keyTable, segment):\n",
        "  first = segment[0]\n",
        "  second = segment[1]\n",
        "  x_first, y_first = search(keyTable, first)\n",
        "  x_second, y_second = search(keyTable, second)\n",
        "  if x_first == x_second:\n",
        "    return \"{}{}\".format(\n",
        "        next_column(keyTable, first),\n",
        "        next_column(keyTable, second),\n",
        "    )\n",
        "  elif y_first == y_second:\n",
        "    return \"{}{}\".format(\n",
        "        next_row(keyTable, first),\n",
        "        next_row(keyTable, second),\n",
        "    )\n",
        "  else:\n",
        "    # This Return The swapping algorithm if its on different row and column\n",
        "    return \"{}{}\".format(keyTable[x_first][y_second], keyTable[x_second][y_first])\n",
        "\n",
        "def get_bool(prompt):\n",
        "    \"\"\"\n",
        "    This Functions is used to user input true or false\n",
        "    \"\"\"\n",
        "    while True:\n",
        "      try:\n",
        "          return {\"true\":True,\"false\":False,1:True,0:False,\"yes\":True,\"no\":False}[input(prompt).lower()]\n",
        "      except KeyError:\n",
        "          print(\"Invalid input please enter True or False!\")\n",
        "\n",
        "def main():\n",
        "  separator = '\\n-------------------------------------'\n",
        "  loop = 0\n",
        "  print(\"PlayFair Cipher Encryption\")\n",
        "\n",
        "  # Key and PlainText Input\n",
        "  while True:\n",
        "    print(separator)\n",
        "    if loop:\n",
        "      key = input('Enter Key Again: ').replace(\" \", \"\").lower()\n",
        "      plaintext = input('Enter PlainText Again: ').replace(\" \", \"\").lower()\n",
        "    else:\n",
        "      key = input('Enter Key: ').replace(\" \", \"\").lower()\n",
        "      plaintext = input('Enter PlainText: ').replace(\" \", \"\").lower()\n",
        "\n",
        "    # Helper Code to Visualize Process\n",
        "    print(\"Key:\", key)\n",
        "    keyTable = generateKeyTable(key)\n",
        "    print(\"Key Table\")\n",
        "    for k in keyTable:\n",
        "      print(k)\n",
        "    print()\n",
        "    print(\"Plaintext:\", plaintext)\n",
        "\n",
        "    # Running Encryption\n",
        "    segments =  []\n",
        "    ignore = False\n",
        "    for i in range(len(plaintext)):\n",
        "      if ignore:\n",
        "        ignore = False\n",
        "        continue\n",
        "      nextIndex = i+1\n",
        "      if nextIndex == len(plaintext):\n",
        "        plaintext += \"z\"\n",
        "      c = plaintext[i]\n",
        "      cn = plaintext[nextIndex]\n",
        "      if c != cn:\n",
        "        segments.append(encrypt(keyTable, \"{}{}\".format(c, cn)))\n",
        "        ignore = True\n",
        "      else:\n",
        "        segments.append(encrypt(keyTable, \"{}{}\".format(c, \"x\")))\n",
        "\n",
        "    # Join The Segments into one CipherText\n",
        "    cipher = \"\".join(segments)\n",
        "    print(\"Cipher:\", cipher)\n",
        "\n",
        "    # Retry the PlayFair Cipher\n",
        "    isAgain = get_bool(\"Would You Like to Try Again? [True or False]:\")\n",
        "    if not isAgain:\n",
        "      print(separator)\n",
        "      print(\"Thanks For Trying out our code\")\n",
        "      break\n",
        "    loop = loop + 1\n",
        "\n",
        "if __name__ == \"__main__\":\n",
        "    main()"
      ]
    },
    {
      "cell_type": "markdown",
      "source": [
        "# Decryption Function with Library"
      ],
      "metadata": {
        "id": "pNolA9ZP97fP"
      }
    },
    {
      "cell_type": "code",
      "source": [
        "!pip install secretpy\n",
        "import secretpy"
      ],
      "metadata": {
        "colab": {
          "base_uri": "https://localhost:8080/"
        },
        "id": "J9yyIlHoeoon",
        "outputId": "1b5c06b1-fb32-4c39-8d3d-f960df141f3e"
      },
      "execution_count": null,
      "outputs": [
        {
          "output_type": "stream",
          "name": "stdout",
          "text": [
            "Looking in indexes: https://pypi.org/simple, https://us-python.pkg.dev/colab-wheels/public/simple/\n",
            "Collecting secretpy\n",
            "  Downloading secretpy-0.12.0-py2.py3-none-any.whl (41 kB)\n",
            "\u001b[K     |████████████████████████████████| 41 kB 135 kB/s \n",
            "\u001b[?25hInstalling collected packages: secretpy\n",
            "Successfully installed secretpy-0.12.0\n"
          ]
        }
      ]
    },
    {
      "cell_type": "code",
      "source": [
        "from secretpy import Playfair, CryptMachine\n",
        "from secretpy.cmdecorators import UpperCase\n",
        "def dec(machine, text):\n",
        "    dec = machine.decrypt(text)\n",
        "    print(dec)\n",
        "    print(\"----------------------------------\")\n",
        "cm = UpperCase(CryptMachine(Playfair()))\n",
        "alphabet = [\n",
        "    u\"m\", u\"o\", u\"n\", u\"a\", u\"r\",\n",
        "    u\"c\", u\"h\", u\"y\", u\"b\", u\"d\",\n",
        "    u\"e\", u\"f\", u\"g\", u\"i\", u\"k\",\n",
        "    u\"l\", u\"p\", u\"q\", u\"s\", u\"t\",\n",
        "    u\"u\", u\"v\", u\"w\", u\"x\", u\"z\",\n",
        "]\n",
        "cm.set_alphabet(alphabet)\n",
        "dec(cm, \"gatlmzclrq\".upper())"
      ],
      "metadata": {
        "colab": {
          "base_uri": "https://localhost:8080/"
        },
        "id": "k8RumQjgfK3e",
        "outputId": "56401699-fad8-4636-e642-bddca0ba4351"
      },
      "execution_count": null,
      "outputs": [
        {
          "output_type": "stream",
          "name": "stdout",
          "text": [
            "INSTRUMENT\n",
            "----------------------------------\n"
          ]
        }
      ]
    }
  ]
}