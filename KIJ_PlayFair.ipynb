{
  "nbformat": 4,
  "nbformat_minor": 0,
  "metadata": {
    "colab": {
      "provenance": [],
      "authorship_tag": "ABX9TyNnm5uJLfmAAJLOs3VLexPx",
      "include_colab_link": true
    },
    "kernelspec": {
      "name": "python3",
      "display_name": "Python 3"
    },
    "language_info": {
      "name": "python"
    }
  },
  "cells": [
    {
      "cell_type": "markdown",
      "metadata": {
        "id": "view-in-github",
        "colab_type": "text"
      },
      "source": [
        "<a href=\"https://colab.research.google.com/github/billharit/KIJ-FP/blob/main/KIJ_PlayFair.ipynb\" target=\"_parent\"><img src=\"https://colab.research.google.com/assets/colab-badge.svg\" alt=\"Open In Colab\"/></a>"
      ]
    },
    {
      "cell_type": "code",
      "source": [
        "alphabetList = []\n",
        "for letter in range(ord('a'), ord('z')+1):\n",
        "  if(chr(letter) != 'j'):\n",
        "    alphabetList.append(chr(letter))"
      ],
      "metadata": {
        "id": "4A0ECeWzozAB"
      },
      "execution_count": 56,
      "outputs": []
    },
    {
      "cell_type": "code",
      "source": [
        "print(alphabetList)"
      ],
      "metadata": {
        "colab": {
          "base_uri": "https://localhost:8080/"
        },
        "id": "l0SDgL0OpTbA",
        "outputId": "7cf159ff-93b1-44ee-e4c2-047084808a7d"
      },
      "execution_count": 151,
      "outputs": [
        {
          "output_type": "stream",
          "name": "stdout",
          "text": [
            "['a', 'b', 'c', 'd', 'e', 'f', 'g', 'h', 'i', 'k', 'l', 'm', 'n', 'o', 'p', 'q', 'r', 's', 't', 'u', 'v', 'w', 'x', 'y', 'z']\n"
          ]
        }
      ]
    },
    {
      "cell_type": "code",
      "source": [
        "key = 'monarchym'\n",
        "\n",
        "keyList = []\n",
        "keyTable = []\n",
        "# Append Key to Table\n",
        "for letter in key:\n",
        "  if letter not in keyList:\n",
        "    keyList.append(letter)\n",
        "# Append Alphabet to Table\n",
        "for letter in alphabetList:\n",
        "  if letter not in keyList:\n",
        "    keyList.append(letter)\n",
        "# Turn into 2D 5x5 list\n",
        "while keyList != []:\n",
        "  keyRow = []\n",
        "  for i in range(0,5):\n",
        "    if(keyList[0] is not None):\n",
        "      keyRow.append(keyList.pop(0))\n",
        "  keyTable.append(keyRow)\n"
      ],
      "metadata": {
        "id": "Vv76CePuqlyK"
      },
      "execution_count": 158,
      "outputs": []
    },
    {
      "cell_type": "code",
      "source": [
        "keyTable"
      ],
      "metadata": {
        "colab": {
          "base_uri": "https://localhost:8080/"
        },
        "id": "EIFlkOYguRcW",
        "outputId": "d74790b2-e78c-4443-cb99-23ac2dce9ff5"
      },
      "execution_count": 159,
      "outputs": [
        {
          "output_type": "execute_result",
          "data": {
            "text/plain": [
              "[['m', 'o', 'n', 'a', 'r'],\n",
              " ['c', 'h', 'y', 'b', 'd'],\n",
              " ['e', 'f', 'g', 'i', 'k'],\n",
              " ['l', 'p', 'q', 's', 't'],\n",
              " ['u', 'v', 'w', 'x', 'z']]"
            ]
          },
          "metadata": {},
          "execution_count": 159
        }
      ]
    },
    {
      "cell_type": "code",
      "source": [
        "keyTable"
      ],
      "metadata": {
        "colab": {
          "base_uri": "https://localhost:8080/"
        },
        "id": "A_kUhrjOuZhT",
        "outputId": "07821395-1149-4976-f9fc-963183b7e754"
      },
      "execution_count": 130,
      "outputs": [
        {
          "output_type": "execute_result",
          "data": {
            "text/plain": [
              "[['m', 'o', 'n', 'a', 'r'],\n",
              " ['c', 'h', 'y', 'b', 'd'],\n",
              " ['e', 'f', 'g', 'i', 'k'],\n",
              " ['l', 'p', 'q', 's', 't'],\n",
              " ['u', 'v', 'w', 'x', 'z']]"
            ]
          },
          "metadata": {},
          "execution_count": 130
        }
      ]
    },
    {
      "cell_type": "code",
      "source": [
        "def search(keyTable, char):\n",
        "  for i, x in enumerate(keyTable):\n",
        "    for a, b in enumerate(x):\n",
        "      if char == b:\n",
        "        return i,a\n",
        "\n",
        "def next_column(keyTable, char):\n",
        "  x, y = search(keyTable, char)\n",
        "  yNext = (y+1) % 5\n",
        "  return keyTable[x][yNext]\n",
        "\n",
        "def next_row(keyTable, char):\n",
        "  x, y = search(keyTable, char)\n",
        "  xNext = (x+1) % 5\n",
        "  return keyTable[xNext][y]\n",
        "\n",
        "\n",
        "x, y = search(keyTable, \"a\")\n",
        "print(\"test-\", search(keyTable, \"l\"))\n",
        "print(\"test\", keyTable[1][0])\n",
        "print(\"next row\", next_row(keyTable,  \"d\"))\n",
        "print(\"next col\", next_column(keyTable,  \"d\"))\n",
        "\n",
        "def index_2d(myLaist, v):\n",
        "    for i, x in enumerate(myList):\n",
        "        if v in x:\n",
        "            return (i, x.index(v))\n",
        "\n",
        "plaintext = \"instruments\"\n",
        "# l = []\n",
        "# for a in plaintext:\n",
        "result = []\n",
        "\n",
        "# region - make diagraph and fill\n",
        "segments =  []\n",
        "ignore = False\n",
        "for i in range(len(plaintext)):\n",
        "  if ignore:\n",
        "    ignore = False\n",
        "    continue\n",
        "  nextIndex = i+1\n",
        "  if nextIndex == len(plaintext):\n",
        "    plaintext += \"z\"\n",
        "  c = plaintext[i]\n",
        "  cn = plaintext[nextIndex]\n",
        "  if c != cn:\n",
        "    segments.append(\"{}{}\".format(plaintext[i], plaintext[nextIndex]))\n",
        "    ignore = True\n",
        "  else:\n",
        "    segments.append(\"{}{}\".format(plaintext[i], \"x\"))\n",
        "print(segments)\n",
        "# region - make diagraph and fill\n",
        "\n",
        "# region - encrypt\n",
        "for s in segments:\n",
        "  first = s[0]\n",
        "  second = s[1]\n",
        "  x_first, y_first = search(keyTable, first)\n",
        "  x_second, y_second = search(keyTable, second)\n",
        "  if x_first == x_second:\n",
        "    result.append(\"{}{}\".format(\n",
        "        next_column(keyTable, first),\n",
        "        next_column(keyTable, second),\n",
        "    ))\n",
        "  elif y_first == y_second:\n",
        "    result.append(\"{}{}\".format(\n",
        "        next_row(keyTable, first),\n",
        "        next_row(keyTable, second),\n",
        "    ))\n",
        "  else:\n",
        "    # print(s, \"reg\")\n",
        "    # print(x_first, y_first, x_second, y_second)\n",
        "    result.append(\"{}{}\".format(keyTable[x_first][y_second], keyTable[x_second][y_first]))\n",
        "print(result)\n",
        "# region - encrypt\n"
      ],
      "metadata": {
        "colab": {
          "base_uri": "https://localhost:8080/"
        },
        "id": "SGaA3y6cy13l",
        "outputId": "b1a734d4-b042-4aad-e892-a5fbe15225db"
      },
      "execution_count": 150,
      "outputs": [
        {
          "output_type": "stream",
          "name": "stdout",
          "text": [
            "test- (3, 0)\n",
            "test c\n",
            "next row k\n",
            "next col c\n",
            "['in', 'st', 'ru', 'me', 'nt', 'sz']\n",
            "['ga', 'tl', 'mz', 'cl', 'rq', 'tx']\n"
          ]
        }
      ]
    },
    {
      "cell_type": "code",
      "source": [],
      "metadata": {
        "id": "izdFMsx9D5IX"
      },
      "execution_count": null,
      "outputs": []
    }
  ]
}